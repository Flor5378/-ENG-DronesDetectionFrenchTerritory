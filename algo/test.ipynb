{
 "cells": [
  {
   "cell_type": "code",
   "execution_count": null,
   "id": "f129ca2c",
   "metadata": {},
   "outputs": [
    {
     "data": {
      "text/markdown": [
       "## 📁 Veuillez charger un fichier CSV :"
      ],
      "text/plain": [
       "<IPython.core.display.Markdown object>"
      ]
     },
     "metadata": {},
     "output_type": "display_data"
    },
    {
     "data": {
      "application/vnd.jupyter.widget-view+json": {
       "model_id": "4b72045e92bc4b9e8f84d7dd46faabed",
       "version_major": 2,
       "version_minor": 0
      },
      "text/plain": [
       "FileUpload(value=(), accept='.csv', description='Upload')"
      ]
     },
     "metadata": {},
     "output_type": "display_data"
    },
    {
     "data": {
      "application/vnd.jupyter.widget-view+json": {
       "model_id": "365c0c4973b54b63912d606281c93e4d",
       "version_major": 2,
       "version_minor": 0
      },
      "text/plain": [
       "Button(button_style='success', description=\"Lancer l'analyse\", style=ButtonStyle())"
      ]
     },
     "metadata": {},
     "output_type": "display_data"
    },
    {
     "data": {
      "application/vnd.jupyter.widget-view+json": {
       "model_id": "66d3b6222d5c4f7d882660141b354a5d",
       "version_major": 2,
       "version_minor": 0
      },
      "text/plain": [
       "Output()"
      ]
     },
     "metadata": {},
     "output_type": "display_data"
    }
   ],
   "source": [
    "import pandas as pd\n",
    "import numpy as np\n",
    "import joblib\n",
    "from collections import Counter\n",
    "from joblib import load\n",
    "\n",
    "# --------------------\n",
    "# 1. Charger les modèles\n",
    "# --------------------\n",
    "encoder = load(r\"C:\\Users\\fgrol\\Documents\\stages\\models\\label_encoder.pkl\")\n",
    "knn_model = joblib.load(r\"C:\\Users\\fgrol\\Documents\\stages\\models\\knn_model.pkl\")\n",
    "rf_model = joblib.load(r\"C:\\Users\\fgrol\\Documents\\stages\\models\\rf_model.pkl\")\n",
    "catboost_model = joblib.load(r\"C:\\Users\\fgrol\\Documents\\stages\\models\\catboost_model.pkl\")\n",
    "svm_model = joblib.load(r\"C:\\Users\\fgrol\\Documents\\stages\\models\\svm_model.pkl\")\n",
    "\n",
    "# --------------------\n",
    "# 2. Colonnes features\n",
    "# --------------------\n",
    "colonnes_features = [\n",
    "    'x', 'y', 'altitude', 'hauteur', 'vitesse',\n",
    "    'vitesse_calculee', 'delta_t', 'vz',\n",
    "    'distance', 'temps_total', 'distance_totale',\n",
    "    'longitude_depart'\n",
    "]\n",
    "# --------------------\n",
    "# 3. Charger fichier CSV\n",
    "# --------------------\n",
    "fichier = r\"C:\\Users\\fgrol\\Documents\\stages\\csv_test.csv\"\n",
    "df = pd.read_csv(fichier, sep=',', quotechar='\"', engine='python', nrows=10000)\n",
    "\n",
    "\n",
    "# --------------------\n",
    "# 4. Nettoyer DataFrame\n",
    "# --------------------\n",
    "X = df[colonnes_features].apply(pd.to_numeric, errors='coerce')\n",
    "X = X.replace([np.inf, -np.inf], np.nan)\n",
    "print(\"NaNs par colonne avant suppression :\")\n",
    "print(X.isna().sum())\n",
    "X = X.dropna()\n",
    "print(f\"Lignes après nettoyage: {len(X)}\")\n",
    "\n",
    "# --------------------\n",
    "# 5. Prédictions\n",
    "# --------------------\n",
    "pred_knn = encoder.inverse_transform(knn_model.predict(X))\n",
    "pred_rf = encoder.inverse_transform(rf_model.predict(X))\n",
    "pred_cb = encoder.inverse_transform(catboost_model.predict(X))\n",
    "pred_svm = encoder.inverse_transform(svm_model.predict(X))\n",
    "\n",
    "# --------------------\n",
    "# 6. Ajouter prédictions au DataFrame\n",
    "# --------------------\n",
    "df_predictions = df.loc[X.index].copy()\n",
    "df_predictions['KNN'] = pred_knn\n",
    "df_predictions['RandomForest'] = pred_rf\n",
    "df_predictions['CatBoost'] = pred_cb\n",
    "df_predictions['SVM'] = pred_svm\n",
    "\n",
    "# --------------------\n",
    "# 7. Calcul vote majoritaire\n",
    "# --------------------\n",
    "def vote_majoritaire(row):\n",
    "    votes = [row['KNN'], row['RandomForest'], row['CatBoost'], row['SVM']]\n",
    "    vote_counts = Counter(votes)\n",
    "    return vote_counts.most_common(1)[0][0]\n",
    "\n",
    "df_predictions['majorité'] = df_predictions.apply(vote_majoritaire, axis=1)\n",
    "\n",
    "# --------------------\n",
    "# 8. Calcul % de justesse\n",
    "# --------------------\n",
    "def accuracy(y_true, y_pred):\n",
    "    return (y_true == y_pred).mean() * 100\n",
    "\n",
    "from IPython.display import Markdown\n",
    "\n",
    "# Calcul des scores\n",
    "accuracy_dict = {\n",
    "    'KNN': accuracy(df_predictions['modele_standardise'], df_predictions['KNN']),\n",
    "    'Random Forest': accuracy(df_predictions['modele_standardise'], df_predictions['RandomForest']),\n",
    "    'CatBoost': accuracy(df_predictions['modele_standardise'], df_predictions['CatBoost']),\n",
    "    'SVM': accuracy(df_predictions['modele_standardise'], df_predictions['SVM']),\n",
    "    'Vote majoritaire': accuracy(df_predictions['modele_standardise'], df_predictions['majorité']),\n",
    "}\n",
    "\n",
    "# Création d’un tableau pour l’affichage\n",
    "df_scores = pd.DataFrame.from_dict(accuracy_dict, orient='index', columns=['Taux de réussite (%)'])\n",
    "df_scores.index.name = 'Modèle'\n",
    "df_scores = df_scores.round(2)\n",
    "\n",
    "display(Markdown(\"### 🎯 **Taux de justesse par modèle**\"))\n",
    "display(df_scores.style.set_properties(**{'text-align': 'center'}))\n",
    "\n",
    "\n",
    "\n",
    "# --------------------\n",
    "# 9. Comparaison majorité vs vérité par drone puis par trajectoire (Voila-ready)\n",
    "# --------------------\n",
    "\n",
    "from IPython.display import display\n",
    "import pandas as pd\n",
    "\n",
    "# 1. Fonction pour récupérer la valeur majoritaire\n",
    "def mode_majoritaire(series):\n",
    "    return series.mode().iloc[0] if not series.mode().empty else 'Inconnu'\n",
    "\n",
    "# 2. Grouper par drone_id puis traj_id\n",
    "grouped = df_predictions.groupby(['drone_id', 'traj_id'])\n",
    "\n",
    "# 3. Aggrégation\n",
    "comparaison_par_traj = grouped.agg({\n",
    "    'modele_standardise': mode_majoritaire,\n",
    "    'majorité': mode_majoritaire\n",
    "}).reset_index()\n",
    "\n",
    "# 4. Ajout d'une colonne 'correct'\n",
    "comparaison_par_traj['correct'] = comparaison_par_traj['modele_standardise'] == comparaison_par_traj['majorité']\n",
    "\n",
    "# 5. Format final pour Voilà\n",
    "df_voila = comparaison_par_traj.rename(columns={\n",
    "    'drone_id': 'Drone ID',\n",
    "    'traj_id': 'Trajectoire ID',\n",
    "    'modele_standardise': 'Modèle réel',\n",
    "    'majorité': 'Prédiction majorité',\n",
    "    'correct': 'Correct'\n",
    "})\n",
    "\n",
    "# 6. Trier pour meilleure lisibilité (optionnel)\n",
    "df_voila = df_voila.sort_values(by=['Drone ID', 'Trajectoire ID']).reset_index(drop=True)\n",
    "\n",
    "# 7. Ajout d’un style pour l’affichage via Voilà\n",
    "def highlight_correct(val):\n",
    "    if val is True:\n",
    "        return 'background-color: #d4edda; color: black;'  # vert pâle\n",
    "    elif val is False:\n",
    "        return 'background-color: #f8d7da; color: black;'  # rouge pâle\n",
    "    return ''\n",
    "\n",
    "styled_df = df_voila.style.applymap(highlight_correct, subset=['Correct']) \\\n",
    "                          .set_properties(**{'text-align': 'center'}) \\\n",
    "                          .set_table_styles([dict(selector='th', props=[('text-align', 'center')])])\n",
    "\n",
    "# 8. Affichage final pour Voilà\n",
    "display(styled_df)\n",
    "\n",
    "\n",
    "\n",
    "# --------------------\n",
    "# 10. Exporter résultats\n",
    "# --------------------\n",
    "colonnes_export = ['modele_standardise', 'KNN', 'RandomForest', 'CatBoost', 'SVM', 'majorité']\n",
    "df_predictions[colonnes_export].to_csv(r\"C:\\Users\\fgrol\\Documents\\stages\\algo\\csv_predictions_output2.csv\", index=False)\n",
    "print(\"\\n✅ Exporté avec vote majoritaire dans : csv_predictions_output.csv\")\n",
    "\n",
    "from IPython.display import HTML\n",
    "\n",
    "display(HTML(f\"\"\"\n",
    "<div style=\"background-color:#e2f0d9; padding:10px; border-radius:8px; margin-top:10px;\">\n",
    "✅ <strong>Résultats exportés</strong> dans : <code>csv_predictions_output2.csv</code><br>\n",
    "📁 Lignes initiales : <strong>{len(df)}</strong><br>\n",
    "🧹 Lignes après nettoyage : <strong>{len(X)}</strong>\n",
    "</div>\n",
    "\"\"\"))\n",
    "\n"
   ]
  },
  {
   "cell_type": "code",
   "execution_count": 3,
   "id": "ff5e970a",
   "metadata": {},
   "outputs": [
    {
     "name": "stdout",
     "output_type": "stream",
     "text": [
      "Nombre de lignes : 1000\n"
     ]
    }
   ],
   "source": [
    "print(f\"Nombre de lignes : {len(df)}\")\n"
   ]
  }
 ],
 "metadata": {
  "kernelspec": {
   "display_name": "Python 3",
   "language": "python",
   "name": "python3"
  },
  "language_info": {
   "codemirror_mode": {
    "name": "ipython",
    "version": 3
   },
   "file_extension": ".py",
   "mimetype": "text/x-python",
   "name": "python",
   "nbconvert_exporter": "python",
   "pygments_lexer": "ipython3",
   "version": "3.13.5"
  }
 },
 "nbformat": 4,
 "nbformat_minor": 5
}
